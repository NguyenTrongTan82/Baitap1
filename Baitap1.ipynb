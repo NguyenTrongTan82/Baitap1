{
  "nbformat": 4,
  "nbformat_minor": 0,
  "metadata": {
    "colab": {
      "name": "Baitap1.ipynb",
      "provenance": [],
      "collapsed_sections": [],
      "include_colab_link": true
    },
    "kernelspec": {
      "name": "python3",
      "display_name": "Python 3"
    }
  },
  "cells": [
    {
      "cell_type": "markdown",
      "metadata": {
        "id": "view-in-github",
        "colab_type": "text"
      },
      "source": [
        "<a href=\"https://colab.research.google.com/github/NguyenTrongTan82/SparkvaMapreduce/blob/main/Baitap1.ipynb\" target=\"_parent\"><img src=\"https://colab.research.google.com/assets/colab-badge.svg\" alt=\"Open In Colab\"/></a>"
      ]
    },
    {
      "cell_type": "code",
      "metadata": {
        "colab": {
          "base_uri": "https://localhost:8080/"
        },
        "id": "l7fYklV9_EPj",
        "outputId": "224c5ad4-408d-441c-ce62-5825a25c1b8f"
      },
      "source": [
        "!pip install pyspark"
      ],
      "execution_count": null,
      "outputs": [
        {
          "output_type": "stream",
          "text": [
            "Collecting pyspark\n",
            "\u001b[?25l  Downloading https://files.pythonhosted.org/packages/f0/26/198fc8c0b98580f617cb03cb298c6056587b8f0447e20fa40c5b634ced77/pyspark-3.0.1.tar.gz (204.2MB)\n",
            "\u001b[K     |████████████████████████████████| 204.2MB 68kB/s \n",
            "\u001b[?25hCollecting py4j==0.10.9\n",
            "\u001b[?25l  Downloading https://files.pythonhosted.org/packages/9e/b6/6a4fb90cd235dc8e265a6a2067f2a2c99f0d91787f06aca4bcf7c23f3f80/py4j-0.10.9-py2.py3-none-any.whl (198kB)\n",
            "\u001b[K     |████████████████████████████████| 204kB 45.5MB/s \n",
            "\u001b[?25hBuilding wheels for collected packages: pyspark\n",
            "  Building wheel for pyspark (setup.py) ... \u001b[?25l\u001b[?25hdone\n",
            "  Created wheel for pyspark: filename=pyspark-3.0.1-py2.py3-none-any.whl size=204612242 sha256=4fb8c1293b4e8cb753574f07c6eb5fedd02285e5ec4c34ece63f6eb6866489cd\n",
            "  Stored in directory: /root/.cache/pip/wheels/5e/bd/07/031766ca628adec8435bb40f0bd83bb676ce65ff4007f8e73f\n",
            "Successfully built pyspark\n",
            "Installing collected packages: py4j, pyspark\n",
            "Successfully installed py4j-0.10.9 pyspark-3.0.1\n"
          ],
          "name": "stdout"
        }
      ]
    },
    {
      "cell_type": "code",
      "metadata": {
        "colab": {
          "base_uri": "https://localhost:8080/"
        },
        "id": "WKdAdLlGDjNX",
        "outputId": "97d40dfc-cc06-4dff-a371-42f3910065c8"
      },
      "source": [
        "from pyspark import SparkContext, SparkConf\r\n",
        "import collections\r\n",
        "\r\n",
        "conf = SparkConf().setMaster(\"local\").setAppName(\"word counting\")\r\n",
        "sc = SparkContext.getOrCreate(conf=conf)\r\n",
        "text = \"nguyen trong tan trong tan\".split()\r\n",
        "words = sc.textFile(\"E:\\HK2 - 2021\\Xulidulieulon\\tan.txt\").flatMap(lambda line: line.split(\" \"))\r\n",
        "rdd = sc.parallelize(text)\r\n",
        "counts = rdd.map(lambda word: (word, 1))\r\n",
        "print(counts.collect())\r\n",
        "aaa = counts.reduceByKey(lambda a, b: a + b)\r\n",
        "print(aaa.collect())"
      ],
      "execution_count": null,
      "outputs": [
        {
          "output_type": "stream",
          "text": [
            "[('nguyen', 1), ('trong', 1), ('tan', 1), ('trong', 1), ('tan', 1)]\n",
            "[('nguyen', 1), ('trong', 2), ('tan', 2)]\n"
          ],
          "name": "stdout"
        }
      ]
    },
    {
      "cell_type": "code",
      "metadata": {
        "id": "ABONCUlINZoN"
      },
      "source": [
        ""
      ],
      "execution_count": null,
      "outputs": []
    }
  ]
}